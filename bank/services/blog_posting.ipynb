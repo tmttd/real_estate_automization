{
 "cells": [
  {
   "cell_type": "code",
   "execution_count": 4,
   "metadata": {},
   "outputs": [],
   "source": [
    "from pymongo import MongoClient\n",
    "from selenium import webdriver\n",
    "from selenium.webdriver.chrome.service import Service\n",
    "from selenium.webdriver.chrome.options import Options\n",
    "from selenium.webdriver.common.by import By\n",
    "from selenium.webdriver.support.ui import WebDriverWait, Select\n",
    "from selenium.webdriver.support import expected_conditions as EC\n",
    "from selenium.webdriver import ActionChains, Keys\n",
    "from automatic_writer import get_property_id\n",
    "from image_upload import get_map_images, get_ground_plan_images, select_random_images, upload_images_to_blog, get_specific_image\n",
    "from datetime import datetime, timezone\n",
    "from bs4 import BeautifulSoup\n",
    "import tkinter as tk\n",
    "from tkinter import simpledialog\n",
    "import time\n",
    "import json\n",
    "import os\n",
    "import logging\n",
    "import pyperclip"
   ]
  },
  {
   "cell_type": "code",
   "execution_count": 34,
   "metadata": {},
   "outputs": [],
   "source": [
    "if __name__ == \"__main__\":\n",
    "    # 팝업으로 매물번호 입력 받기\n",
    "    property_id = get_property_id()\n",
    "    if property_id:\n",
    "        title, information, description = main(property_id)\n",
    "    else:\n",
    "        print(\"매물번호가 입력되지 않았습니다.\")"
   ]
  },
  {
   "cell_type": "code",
   "execution_count": 35,
   "metadata": {},
   "outputs": [
    {
     "name": "stdout",
     "output_type": "stream",
     "text": [
      "단지명을 찾았습니다: 삼익 (컬렉션: apt)\n",
      "매물 URL: https://new.land.naver.com/complexes/1031?ms=37.5215,127.05852,16&a=JGC:PRE&b=A1&e=RETAIL&articleNo=2462850598\n"
     ]
    }
   ],
   "source": [
    "# MongoDB 연결\n",
    "client = MongoClient('mongodb://localhost:27017/')\n",
    "db = client['property_db']\n",
    "\n",
    "# 모든 컬렉션 조회\n",
    "collections = db.list_collection_names()\n",
    "\n",
    "complex_name = None\n",
    "property_url = None\n",
    "\n",
    "# 각 컬렉션에서 검색\n",
    "for collection_name in collections:\n",
    "    collection = db[collection_name]\n",
    "    \n",
    "    # 매물목록 배열 내에서 매물번호로 검색하고 해당 매물의 정보 가져오기\n",
    "    document = collection.find_one(\n",
    "        {\n",
    "            \"매물목록\": {\n",
    "                \"$elemMatch\": {\n",
    "                    \"매물번호\": property_id\n",
    "                }\n",
    "            }\n",
    "        },\n",
    "        {\n",
    "            \"단지명\": 1,\n",
    "            \"매물목록.$\": 1  # 매칭된 매물 정보만 가져오기\n",
    "        }\n",
    "    )\n",
    "    \n",
    "    if document:\n",
    "        complex_name = document.get('단지명')\n",
    "        # 매물목록 배열에서 첫 번째(매칭된) 매물의 URL 가져오기\n",
    "        if document.get('매물목록') and len(document['매물목록']) > 0:\n",
    "            property_url = document['매물목록'][0].get('URL')\n",
    "            print(f\"단지명을 찾았습니다: {complex_name} (컬렉션: {collection_name})\")\n",
    "            print(f\"매물 URL: {property_url}\")\n",
    "            break\n",
    "\n",
    "if not complex_name:\n",
    "    print(\"해당 property_id의 단지명을 찾을 수 없습니다.\")\n",
    "if not property_url:\n",
    "    print(\"해당 매물의 URL을 찾을 수 없습니다.\")\n",
    "\n",
    "# 연결 종료\n",
    "client.close()"
   ]
  },
  {
   "cell_type": "code",
   "execution_count": 5,
   "metadata": {},
   "outputs": [],
   "source": [
    "chrome_options = Options()\n",
    "service = Service(r'C:\\Users\\pqstv\\tmttd\\MARS\\BHL\\services\\crawling\\chromedriver-win64\\chromedriver.exe')\n",
    "driver = webdriver.Chrome(service=service, options=chrome_options)\n",
    "wait = WebDriverWait(driver, 10)"
   ]
  },
  {
   "cell_type": "code",
   "execution_count": 37,
   "metadata": {},
   "outputs": [],
   "source": [
    "driver.get('https://blog.naver.com/juka103?Redirect=Write&')"
   ]
  },
  {
   "cell_type": "code",
   "execution_count": 38,
   "metadata": {},
   "outputs": [],
   "source": [
    "id = 'juka103'\n",
    "pwd = 'samik9407!'\n",
    "\n",
    "# 로그인\n",
    "id_input = driver.find_element(By.XPATH, '/html/body/div[1]/div[2]/div/div[1]/form/ul/li/div/div[1]/div/div[1]/input')\n",
    "id_input.click()\n",
    "pyperclip.copy(id)\n",
    "actions = ActionChains(driver)\n",
    "actions.key_down(Keys.CONTROL).send_keys('v').key_up(Keys.CONTROL).perform()\n",
    "time.sleep(1)\n",
    "pwd_input = driver.find_element(By.XPATH, '/html/body/div[1]/div[2]/div/div[1]/form/ul/li/div/div[1]/div/div[2]/input')\n",
    "pwd_input.click()\n",
    "pyperclip.copy(pwd)\n",
    "actions = ActionChains(driver)\n",
    "actions.key_down(Keys.CONTROL).send_keys('v').key_up(Keys.CONTROL).perform()\n",
    "time.sleep(1)\n",
    "# id_input.send_keys('juka103')\n",
    "# pwd_input = driver.find_element(By.XPATH, '//*[@id=\"pw\"]')\n",
    "# pwd_input.send_keys('samik9407!')\n",
    "button = driver.find_element(By.XPATH, '//*[@id=\"log.login\"]')\n",
    "button.click()\n",
    "time.sleep(2)\n",
    "# driver.switch_to.window(driver.window_handles[-1])"
   ]
  },
  {
   "cell_type": "code",
   "execution_count": 39,
   "metadata": {},
   "outputs": [],
   "source": [
    "driver.switch_to.frame('mainFrame')"
   ]
  },
  {
   "cell_type": "code",
   "execution_count": 40,
   "metadata": {},
   "outputs": [],
   "source": [
    "# 제목 작성\n",
    "\n",
    "bb = WebDriverWait(driver, 3).until(\n",
    "    EC.presence_of_element_located((By.XPATH, '//span[contains(text(), \"제목\")]')))\n",
    "bb.click()\n",
    "actions = ActionChains(driver)\n",
    "actions.send_keys(f\"{title}\").perform()"
   ]
  },
  {
   "cell_type": "code",
   "execution_count": 41,
   "metadata": {},
   "outputs": [],
   "source": [
    "# 본문 작성\n",
    "try:\n",
    "    # 먼저 본문 영역 컨테이너를 찾습니다\n",
    "    content_container = WebDriverWait(driver, 3).until(\n",
    "        EC.presence_of_element_located((By.CSS_SELECTOR, '.se-component.se-text.se-l-default'))\n",
    "    )\n",
    "    content_container.click()\n",
    "    time.sleep(1)  # 클릭 후 잠시 대기\n",
    "    \n",
    "    # 그 다음 실제 입력 가능한 paragraph를 찾습니다\n",
    "    content_area = content_container.find_element(By.CSS_SELECTOR, 'p.se-text-paragraph')\n",
    "    content_area.click()\n",
    "    actions = ActionChains(driver)\n",
    "    actions.send_keys(f'{information}').perform()\n",
    "    time.sleep(2)\n",
    "except Exception as e:\n",
    "    print(\"본문 영역을 찾을 수 없습니다:\", str(e))\n"
   ]
  },
  {
   "cell_type": "code",
   "execution_count": 42,
   "metadata": {},
   "outputs": [
    {
     "name": "stdout",
     "output_type": "stream",
     "text": [
      "C:\\Users\\pqstv\\Desktop\\real_estate_automization\\images\\삼익\\HSCP_3.jpg 업로드 시도 중...\n",
      "업로드 완료: C:\\Users\\pqstv\\Desktop\\real_estate_automization\\images\\삼익\\HSCP_3.jpg\n",
      "C:\\Users\\pqstv\\Desktop\\real_estate_automization\\images\\삼익\\HSCPFCTS_4.jpg 업로드 시도 중...\n",
      "업로드 완료: C:\\Users\\pqstv\\Desktop\\real_estate_automization\\images\\삼익\\HSCPFCTS_4.jpg\n",
      "C:\\Users\\pqstv\\Desktop\\real_estate_automization\\images\\삼익\\HSCP_11.jpg 업로드 시도 중...\n",
      "업로드 완료: C:\\Users\\pqstv\\Desktop\\real_estate_automization\\images\\삼익\\HSCP_11.jpg\n",
      "모든 사진 업로드가 완료되었습니다.\n",
      "C:\\Users\\pqstv\\Desktop\\real_estate_automization\\images\\삼익\\GRDPLAN_1.jpg 업로드 시도 중...\n",
      "업로드 완료: C:\\Users\\pqstv\\Desktop\\real_estate_automization\\images\\삼익\\GRDPLAN_1.jpg\n",
      "모든 사진 업로드가 완료되었습니다.\n"
     ]
    }
   ],
   "source": [
    "# 랜덤 이미지 업로드\n",
    "random_images = select_random_images(complex_name, num_images=3)\n",
    "success = upload_images_to_blog(driver, random_images)\n",
    "\n",
    "# 배치도 이미지 업로드\n",
    "plan_images = get_ground_plan_images(complex_name)\n",
    "success = upload_images_to_blog(driver, plan_images)"
   ]
  },
  {
   "cell_type": "code",
   "execution_count": 43,
   "metadata": {},
   "outputs": [],
   "source": [
    "actions = ActionChains(driver)\n",
    "actions.send_keys(f'{description}').perform()\n",
    "time.sleep(2)"
   ]
  },
  {
   "cell_type": "code",
   "execution_count": 45,
   "metadata": {},
   "outputs": [],
   "source": [
    "actions.send_keys(Keys.ENTER).perform()\n",
    "actions.send_keys(Keys.ENTER).perform()\n",
    "final_text = '-더 자세한 정보가 궁금하다면? 아래 링크 클릭!'\n",
    "actions.send_keys(f'{final_text}').perform()\n",
    "actions.send_keys(Keys.ENTER).perform()"
   ]
  },
  {
   "cell_type": "code",
   "execution_count": 7,
   "metadata": {},
   "outputs": [
    {
     "name": "stdout",
     "output_type": "stream",
     "text": [
      "{'acceptInsecureCerts': False, 'browserName': 'chrome', 'browserVersion': '131.0.6778.205', 'chrome': {'chromedriverVersion': '131.0.6778.108 (3b014839fbc4fb688b2f5af512d6ce312ad208b1-refs/branch-heads/6778@{#2393})', 'userDataDir': 'C:\\\\Users\\\\pqstv\\\\AppData\\\\Local\\\\Temp\\\\scoped_dir9044_1578043341'}, 'fedcm:accounts': True, 'goog:chromeOptions': {'debuggerAddress': 'localhost:52867'}, 'networkConnectionEnabled': False, 'pageLoadStrategy': 'normal', 'platformName': 'windows', 'proxy': {}, 'setWindowRect': True, 'strictFileInteractability': False, 'timeouts': {'implicit': 0, 'pageLoad': 300000, 'script': 30000}, 'unhandledPromptBehavior': 'dismiss and notify', 'webauthn:extension:credBlob': True, 'webauthn:extension:largeBlob': True, 'webauthn:extension:minPinLength': True, 'webauthn:extension:prf': True, 'webauthn:virtualAuthenticators': True}\n"
     ]
    }
   ],
   "source": [
    "print(driver.capabilities)"
   ]
  },
  {
   "cell_type": "code",
   "execution_count": 46,
   "metadata": {},
   "outputs": [],
   "source": [
    " # 링크 버튼 찾기 및 클릭\n",
    "link_button = driver.find_element(By.CSS_SELECTOR, 'button[data-name=\"oglink\"]')\n",
    "driver.execute_script(\"arguments[0].click();\", link_button)\n",
    "time.sleep(1)\n",
    "\n",
    "actions.send_keys(f'{property_url}').perform()\n",
    "time.sleep(1)\n",
    "actions.send_keys(Keys.ENTER).perform()\n",
    "# 확인 버튼이 클릭 가능할 때까지 대기 후 JavaScript로 클릭\n",
    "confirm_button = WebDriverWait(driver, 3).until(\n",
    "    EC.element_to_be_clickable((By.CSS_SELECTOR, '.se-popup-button-confirm'))\n",
    ")\n",
    "# 버튼으로 스크롤\n",
    "driver.execute_script(\"arguments[0].scrollIntoView(true);\", confirm_button)\n",
    "time.sleep(1)\n",
    "# 클릭 실행\n",
    "driver.execute_script(\"arguments[0].click();\", confirm_button)"
   ]
  },
  {
   "cell_type": "code",
   "execution_count": 47,
   "metadata": {},
   "outputs": [
    {
     "name": "stdout",
     "output_type": "stream",
     "text": [
      "C:\\Users\\pqstv\\Desktop\\real_estate_automization\\images\\shop.jpg 업로드 시도 중...\n",
      "업로드 완료: C:\\Users\\pqstv\\Desktop\\real_estate_automization\\images\\shop.jpg\n",
      "모든 사진 업로드가 완료되었습니다.\n",
      "C:\\Users\\pqstv\\Desktop\\real_estate_automization\\images\\card.jpg 업로드 시도 중...\n",
      "업로드 완료: C:\\Users\\pqstv\\Desktop\\real_estate_automization\\images\\card.jpg\n",
      "모든 사진 업로드가 완료되었습니다.\n"
     ]
    }
   ],
   "source": [
    "# 부동산 이미지 업로드\n",
    "image_path = get_specific_image(r\"C:\\Users\\pqstv\\Desktop\\real_estate_automization\\images\\shop.jpg\")\n",
    "success = upload_images_to_blog(driver, [image_path])\n",
    "\n",
    "# 명함 이미지 업로드\n",
    "image_path = get_specific_image(r\"C:\\Users\\pqstv\\Desktop\\real_estate_automization\\images\\card.jpg\")\n",
    "success = upload_images_to_blog(driver, [image_path])"
   ]
  },
  {
   "cell_type": "code",
   "execution_count": 48,
   "metadata": {},
   "outputs": [],
   "source": [
    "# 발행\n",
    "try:\n",
    "    # 발행 버튼 찾기\n",
    "    publish_button = WebDriverWait(driver, 3).until(\n",
    "        EC.element_to_be_clickable((By.CSS_SELECTOR, '.publish_btn__m9KHH'))\n",
    "    )\n",
    "    # JavaScript로 클릭 실행\n",
    "    driver.execute_script(\"arguments[0].click();\", publish_button)\n",
    "    time.sleep(1)\n",
    "\n",
    "    # 카테고리 선택\n",
    "    category_button = WebDriverWait(driver, 3).until(\n",
    "        EC.element_to_be_clickable((By.XPATH, '//*[@id=\"root\"]/div/div[1]/div/div[3]/div[2]/div/div/div/div[1]/div/div/button'))\n",
    "    )\n",
    "    driver.execute_script(\"arguments[0].click();\", category_button)\n",
    "    time.sleep(1)\n",
    "\n",
    "    # 특정 카테고리 선택 (예: \"매물정보\")\n",
    "    # category_item = WebDriverWait(driver, 3).until(\n",
    "    #     EC.element_to_be_clickable((By.CSS_SELECTOR, '[data-testid=\"categoryBtn_7\"]'))\n",
    "    # )\n",
    "    \n",
    "        # 또는 label을 통해 선택\n",
    "    category_item = WebDriverWait(driver, 3).until(\n",
    "        EC.element_to_be_clickable((By.CSS_SELECTOR, 'label[for=\"7_매물정보\"]'))\n",
    "    )\n",
    "    driver.execute_script(\"arguments[0].click();\", category_item)\n",
    "    time.sleep(1)\n",
    "\n",
    "    # 최종 발행 버튼\n",
    "    final_publish = WebDriverWait(driver, 3).until(\n",
    "        EC.element_to_be_clickable((By.XPATH, '//*[@id=\"root\"]/div/div[1]/div/div[3]/div[2]/div/div/div/div[8]/div/button'))\n",
    "    )\n",
    "    driver.execute_script(\"arguments[0].click();\", final_publish)\n",
    "    time.sleep(2)\n",
    "\n",
    "except Exception as e:\n",
    "    print(\"발행 과정에서 오류 발생:\", str(e))"
   ]
  }
 ],
 "metadata": {
  "kernelspec": {
   "display_name": "Python 3",
   "language": "python",
   "name": "python3"
  },
  "language_info": {
   "codemirror_mode": {
    "name": "ipython",
    "version": 3
   },
   "file_extension": ".py",
   "mimetype": "text/x-python",
   "name": "python",
   "nbconvert_exporter": "python",
   "pygments_lexer": "ipython3",
   "version": "3.10.5"
  }
 },
 "nbformat": 4,
 "nbformat_minor": 2
}
